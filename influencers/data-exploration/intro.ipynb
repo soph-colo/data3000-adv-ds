{
 "cells": [
  {
   "attachments": {},
   "cell_type": "markdown",
   "metadata": {},
   "source": [
    "## Influencer Data\n",
    "### Goals:\n",
    "#### 1. investigate demographics of influences - what does this mean for the influencer industry?\n",
    "#### 2. what MBTI traits are popular and associated with certain activities? https://www.16personalities.com/personality-types\n",
    "#### 3. (favorite) can i predict what someone's personality type is based on their background???\n"
   ]
  },
  {
   "attachments": {},
   "cell_type": "markdown",
   "metadata": {},
   "source": [
    "### Imports"
   ]
  },
  {
   "cell_type": "code",
   "execution_count": 3,
   "metadata": {},
   "outputs": [],
   "source": [
    "# Imports\n",
    "import pandas as pd\n",
    "import json\n",
    "import os"
   ]
  },
  {
   "attachments": {},
   "cell_type": "markdown",
   "metadata": {},
   "source": [
    "### Reading in Data"
   ]
  },
  {
   "cell_type": "code",
   "execution_count": 8,
   "metadata": {},
   "outputs": [],
   "source": [
    "jsonObj = pd.read_json(path_or_buf='data/influencer_data.jsonl', lines=True)"
   ]
  },
  {
   "cell_type": "code",
   "execution_count": 9,
   "metadata": {},
   "outputs": [
    {
     "data": {
      "text/html": [
       "<div>\n",
       "<style scoped>\n",
       "    .dataframe tbody tr th:only-of-type {\n",
       "        vertical-align: middle;\n",
       "    }\n",
       "\n",
       "    .dataframe tbody tr th {\n",
       "        vertical-align: top;\n",
       "    }\n",
       "\n",
       "    .dataframe thead th {\n",
       "        text-align: right;\n",
       "    }\n",
       "</style>\n",
       "<table border=\"1\" class=\"dataframe\">\n",
       "  <thead>\n",
       "    <tr style=\"text-align: right;\">\n",
       "      <th></th>\n",
       "      <th>Name</th>\n",
       "      <th>Age</th>\n",
       "      <th>Sex</th>\n",
       "      <th>Country of Origin</th>\n",
       "      <th>State or Province</th>\n",
       "      <th>Education Level</th>\n",
       "      <th>MBTI Personality</th>\n",
       "      <th>Lifestyle</th>\n",
       "      <th>Backstory</th>\n",
       "    </tr>\n",
       "  </thead>\n",
       "  <tbody>\n",
       "    <tr>\n",
       "      <th>0</th>\n",
       "      <td>Andre Mcclain</td>\n",
       "      <td>23</td>\n",
       "      <td>male</td>\n",
       "      <td>USA</td>\n",
       "      <td>South Carolina</td>\n",
       "      <td>High School</td>\n",
       "      <td>INFP</td>\n",
       "      <td>architecture</td>\n",
       "      <td>Andre Mcclain grew up in a small town in South...</td>\n",
       "    </tr>\n",
       "    <tr>\n",
       "      <th>1</th>\n",
       "      <td>Gregory Joseph</td>\n",
       "      <td>19</td>\n",
       "      <td>male</td>\n",
       "      <td>USA</td>\n",
       "      <td>Iowa</td>\n",
       "      <td>High School</td>\n",
       "      <td>ISFP</td>\n",
       "      <td>diy</td>\n",
       "      <td>Gregory Joseph was born and raised in a small ...</td>\n",
       "    </tr>\n",
       "    <tr>\n",
       "      <th>2</th>\n",
       "      <td>William Wall</td>\n",
       "      <td>23</td>\n",
       "      <td>male</td>\n",
       "      <td>USA</td>\n",
       "      <td>Oregon</td>\n",
       "      <td>High School</td>\n",
       "      <td>ISFP</td>\n",
       "      <td>pets</td>\n",
       "      <td>William Wall was born and raised in the lush g...</td>\n",
       "    </tr>\n",
       "    <tr>\n",
       "      <th>3</th>\n",
       "      <td>Virginia Chapman</td>\n",
       "      <td>24</td>\n",
       "      <td>female</td>\n",
       "      <td>USA</td>\n",
       "      <td>Pennsylvania</td>\n",
       "      <td>Bachelor</td>\n",
       "      <td>ISFJ</td>\n",
       "      <td>cooking</td>\n",
       "      <td>Virginia Chapman was born and raised in a smal...</td>\n",
       "    </tr>\n",
       "    <tr>\n",
       "      <th>4</th>\n",
       "      <td>Deborah Potter</td>\n",
       "      <td>33</td>\n",
       "      <td>female</td>\n",
       "      <td>Canada</td>\n",
       "      <td>Quebec</td>\n",
       "      <td>Bachelor</td>\n",
       "      <td>ESTP</td>\n",
       "      <td>dancing</td>\n",
       "      <td>Deborah Potter was born and raised in Quebec, ...</td>\n",
       "    </tr>\n",
       "  </tbody>\n",
       "</table>\n",
       "</div>"
      ],
      "text/plain": [
       "               Name  Age     Sex Country of Origin State or Province  \\\n",
       "0     Andre Mcclain   23    male               USA    South Carolina   \n",
       "1    Gregory Joseph   19    male               USA              Iowa   \n",
       "2      William Wall   23    male               USA            Oregon   \n",
       "3  Virginia Chapman   24  female               USA      Pennsylvania   \n",
       "4    Deborah Potter   33  female            Canada            Quebec   \n",
       "\n",
       "  Education Level MBTI Personality     Lifestyle  \\\n",
       "0     High School             INFP  architecture   \n",
       "1     High School             ISFP           diy   \n",
       "2     High School             ISFP          pets   \n",
       "3        Bachelor             ISFJ       cooking   \n",
       "4        Bachelor             ESTP       dancing   \n",
       "\n",
       "                                           Backstory  \n",
       "0  Andre Mcclain grew up in a small town in South...  \n",
       "1  Gregory Joseph was born and raised in a small ...  \n",
       "2  William Wall was born and raised in the lush g...  \n",
       "3  Virginia Chapman was born and raised in a smal...  \n",
       "4  Deborah Potter was born and raised in Quebec, ...  "
      ]
     },
     "execution_count": 9,
     "metadata": {},
     "output_type": "execute_result"
    }
   ],
   "source": [
    "jsonObj.head()"
   ]
  },
  {
   "attachments": {},
   "cell_type": "markdown",
   "metadata": {},
   "source": [
    "#### 1. investigate demographics of influences - what does this mean for the influencer industry?"
   ]
  },
  {
   "cell_type": "code",
   "execution_count": 10,
   "metadata": {},
   "outputs": [
    {
     "data": {
      "text/plain": [
       "ISFP    3978\n",
       "ESFP    3708\n",
       "ENFP    3486\n",
       "INTP    2749\n",
       "INFP    2433\n",
       "ISTP    2372\n",
       "ENFJ    1856\n",
       "ENTP    1755\n",
       "INFJ    1739\n",
       "ENTJ    1719\n",
       "ESFJ    1709\n",
       "INTJ    1586\n",
       "ESTP    1508\n",
       "ESTJ    1057\n",
       "ISFJ     747\n",
       "ISTJ     488\n",
       "Name: MBTI Personality, dtype: int64"
      ]
     },
     "execution_count": 10,
     "metadata": {},
     "output_type": "execute_result"
    }
   ],
   "source": [
    "jsonObj['MBTI Personality'].value_counts()"
   ]
  },
  {
   "cell_type": "code",
   "execution_count": null,
   "metadata": {},
   "outputs": [],
   "source": []
  }
 ],
 "metadata": {
  "kernelspec": {
   "display_name": "Python 3",
   "language": "python",
   "name": "python3"
  },
  "language_info": {
   "codemirror_mode": {
    "name": "ipython",
    "version": 3
   },
   "file_extension": ".py",
   "mimetype": "text/x-python",
   "name": "python",
   "nbconvert_exporter": "python",
   "pygments_lexer": "ipython3",
   "version": "3.10.1 (v3.10.1:2cd268a3a9, Dec  6 2021, 14:28:59) [Clang 13.0.0 (clang-1300.0.29.3)]"
  },
  "orig_nbformat": 4,
  "vscode": {
   "interpreter": {
    "hash": "aee8b7b246df8f9039afb4144a1f6fd8d2ca17a180786b69acc140d282b71a49"
   }
  }
 },
 "nbformat": 4,
 "nbformat_minor": 2
}
