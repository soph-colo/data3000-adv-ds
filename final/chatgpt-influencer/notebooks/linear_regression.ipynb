{
 "cells": [
  {
   "attachments": {},
   "cell_type": "markdown",
   "metadata": {},
   "source": [
    "# Linear Regression Model"
   ]
  },
  {
   "attachments": {},
   "cell_type": "markdown",
   "metadata": {},
   "source": [
    "#### Summary: This notebook will take our clean and engineered dataset and split, train, test, and then send a copy of the coefficents of the regression to the processed data folder."
   ]
  },
  {
   "attachments": {},
   "cell_type": "markdown",
   "metadata": {},
   "source": [
    "#### 0. Split\n",
    "#### 1. Normalize\n",
    "#### 2. Train\n",
    "#### 3. Predict\n",
    "#### 4. Analyze"
   ]
  },
  {
   "attachments": {},
   "cell_type": "markdown",
   "metadata": {},
   "source": [
    "### Imports"
   ]
  },
  {
   "cell_type": "code",
   "execution_count": 26,
   "metadata": {},
   "outputs": [],
   "source": [
    "import pandas as pd\n",
    "import os\n",
    "import numpy as np\n",
    "from sklearn.linear_model import LinearRegression\n",
    "from sklearn.model_selection import train_test_split\n",
    "from matplotlib import pyplot as plt\n",
    "from sklearn.metrics import mean_absolute_error\n",
    "from sklearn.metrics import r2_score\n",
    "import seaborn as sns\n",
    "from sklearn.preprocessing import MinMaxScaler\n",
    "from sklearn.metrics import mean_squared_error"
   ]
  },
  {
   "cell_type": "code",
   "execution_count": 2,
   "metadata": {},
   "outputs": [],
   "source": [
    "os.getcwd()\n",
    "# step out of the \"notebooks\" folder\n",
    "p = os.chdir(\"..\")"
   ]
  },
  {
   "cell_type": "code",
   "execution_count": 3,
   "metadata": {},
   "outputs": [
    {
     "data": {
      "text/html": [
       "<div>\n",
       "<style scoped>\n",
       "    .dataframe tbody tr th:only-of-type {\n",
       "        vertical-align: middle;\n",
       "    }\n",
       "\n",
       "    .dataframe tbody tr th {\n",
       "        vertical-align: top;\n",
       "    }\n",
       "\n",
       "    .dataframe thead th {\n",
       "        text-align: right;\n",
       "    }\n",
       "</style>\n",
       "<table border=\"1\" class=\"dataframe\">\n",
       "  <thead>\n",
       "    <tr style=\"text-align: right;\">\n",
       "      <th></th>\n",
       "      <th>Unnamed: 0.1</th>\n",
       "      <th>Unnamed: 0</th>\n",
       "      <th>Name</th>\n",
       "      <th>Age</th>\n",
       "      <th>Years_Active</th>\n",
       "      <th>Beauty_Level</th>\n",
       "      <th>Award_Wins</th>\n",
       "      <th>Media_Mentions</th>\n",
       "      <th>Social_Media_Followers</th>\n",
       "      <th>Social_Media_Likes</th>\n",
       "      <th>...</th>\n",
       "      <th>Health</th>\n",
       "      <th>Beauty</th>\n",
       "      <th>Tech</th>\n",
       "      <th>Bachelor's</th>\n",
       "      <th>Culinary School</th>\n",
       "      <th>High School Diploma</th>\n",
       "      <th>Master's</th>\n",
       "      <th>Self-Taught</th>\n",
       "      <th>Introvert</th>\n",
       "      <th>Extrovert</th>\n",
       "    </tr>\n",
       "  </thead>\n",
       "  <tbody>\n",
       "    <tr>\n",
       "      <th>0</th>\n",
       "      <td>0</td>\n",
       "      <td>0</td>\n",
       "      <td>Ava Johnson</td>\n",
       "      <td>32</td>\n",
       "      <td>7</td>\n",
       "      <td>8</td>\n",
       "      <td>3.0</td>\n",
       "      <td>500.0</td>\n",
       "      <td>1000000.0</td>\n",
       "      <td>50000.0</td>\n",
       "      <td>...</td>\n",
       "      <td>1</td>\n",
       "      <td>0</td>\n",
       "      <td>0</td>\n",
       "      <td>1</td>\n",
       "      <td>0</td>\n",
       "      <td>0</td>\n",
       "      <td>0</td>\n",
       "      <td>0</td>\n",
       "      <td>0</td>\n",
       "      <td>1</td>\n",
       "    </tr>\n",
       "    <tr>\n",
       "      <th>1</th>\n",
       "      <td>1</td>\n",
       "      <td>1</td>\n",
       "      <td>Jackson Lee</td>\n",
       "      <td>28</td>\n",
       "      <td>5</td>\n",
       "      <td>7</td>\n",
       "      <td>2.0</td>\n",
       "      <td>300.0</td>\n",
       "      <td>800000.0</td>\n",
       "      <td>40000.0</td>\n",
       "      <td>...</td>\n",
       "      <td>1</td>\n",
       "      <td>0</td>\n",
       "      <td>0</td>\n",
       "      <td>0</td>\n",
       "      <td>0</td>\n",
       "      <td>1</td>\n",
       "      <td>0</td>\n",
       "      <td>0</td>\n",
       "      <td>1</td>\n",
       "      <td>0</td>\n",
       "    </tr>\n",
       "    <tr>\n",
       "      <th>2</th>\n",
       "      <td>2</td>\n",
       "      <td>2</td>\n",
       "      <td>Sophie Garcia</td>\n",
       "      <td>35</td>\n",
       "      <td>8</td>\n",
       "      <td>9</td>\n",
       "      <td>5.0</td>\n",
       "      <td>600.0</td>\n",
       "      <td>1200000.0</td>\n",
       "      <td>70000.0</td>\n",
       "      <td>...</td>\n",
       "      <td>0</td>\n",
       "      <td>1</td>\n",
       "      <td>0</td>\n",
       "      <td>0</td>\n",
       "      <td>0</td>\n",
       "      <td>0</td>\n",
       "      <td>1</td>\n",
       "      <td>0</td>\n",
       "      <td>1</td>\n",
       "      <td>0</td>\n",
       "    </tr>\n",
       "    <tr>\n",
       "      <th>3</th>\n",
       "      <td>3</td>\n",
       "      <td>3</td>\n",
       "      <td>Ryan Patel</td>\n",
       "      <td>30</td>\n",
       "      <td>6</td>\n",
       "      <td>6</td>\n",
       "      <td>3.0</td>\n",
       "      <td>400.0</td>\n",
       "      <td>900000.0</td>\n",
       "      <td>45000.0</td>\n",
       "      <td>...</td>\n",
       "      <td>0</td>\n",
       "      <td>0</td>\n",
       "      <td>0</td>\n",
       "      <td>0</td>\n",
       "      <td>1</td>\n",
       "      <td>0</td>\n",
       "      <td>0</td>\n",
       "      <td>0</td>\n",
       "      <td>0</td>\n",
       "      <td>1</td>\n",
       "    </tr>\n",
       "    <tr>\n",
       "      <th>4</th>\n",
       "      <td>4</td>\n",
       "      <td>4</td>\n",
       "      <td>Emma Chen</td>\n",
       "      <td>25</td>\n",
       "      <td>4</td>\n",
       "      <td>7</td>\n",
       "      <td>2.0</td>\n",
       "      <td>250.0</td>\n",
       "      <td>600000.0</td>\n",
       "      <td>35000.0</td>\n",
       "      <td>...</td>\n",
       "      <td>0</td>\n",
       "      <td>0</td>\n",
       "      <td>0</td>\n",
       "      <td>1</td>\n",
       "      <td>0</td>\n",
       "      <td>0</td>\n",
       "      <td>0</td>\n",
       "      <td>0</td>\n",
       "      <td>0</td>\n",
       "      <td>1</td>\n",
       "    </tr>\n",
       "  </tbody>\n",
       "</table>\n",
       "<p>5 rows × 35 columns</p>\n",
       "</div>"
      ],
      "text/plain": [
       "   Unnamed: 0.1  Unnamed: 0           Name  Age  Years_Active  Beauty_Level  \\\n",
       "0             0           0    Ava Johnson   32             7             8   \n",
       "1             1           1    Jackson Lee   28             5             7   \n",
       "2             2           2  Sophie Garcia   35             8             9   \n",
       "3             3           3     Ryan Patel   30             6             6   \n",
       "4             4           4      Emma Chen   25             4             7   \n",
       "\n",
       "   Award_Wins  Media_Mentions  Social_Media_Followers  Social_Media_Likes  \\\n",
       "0         3.0           500.0               1000000.0             50000.0   \n",
       "1         2.0           300.0                800000.0             40000.0   \n",
       "2         5.0           600.0               1200000.0             70000.0   \n",
       "3         3.0           400.0                900000.0             45000.0   \n",
       "4         2.0           250.0                600000.0             35000.0   \n",
       "\n",
       "   ...  Health  Beauty Tech Bachelor's  Culinary School  High School Diploma  \\\n",
       "0  ...       1       0    0          1                0                    0   \n",
       "1  ...       1       0    0          0                0                    1   \n",
       "2  ...       0       1    0          0                0                    0   \n",
       "3  ...       0       0    0          0                1                    0   \n",
       "4  ...       0       0    0          1                0                    0   \n",
       "\n",
       "   Master's  Self-Taught  Introvert  Extrovert  \n",
       "0         0            0          0          1  \n",
       "1         0            0          1          0  \n",
       "2         1            0          1          0  \n",
       "3         0            0          0          1  \n",
       "4         0            0          0          1  \n",
       "\n",
       "[5 rows x 35 columns]"
      ]
     },
     "execution_count": 3,
     "metadata": {},
     "output_type": "execute_result"
    }
   ],
   "source": [
    "data = pd.read_csv(\"data/processed/chatgpt_data_final.csv\")\n",
    "data.head()"
   ]
  },
  {
   "cell_type": "code",
   "execution_count": 4,
   "metadata": {},
   "outputs": [
    {
     "data": {
      "text/plain": [
       "(607, 35)"
      ]
     },
     "execution_count": 4,
     "metadata": {},
     "output_type": "execute_result"
    }
   ],
   "source": [
    "data.shape"
   ]
  },
  {
   "cell_type": "markdown",
   "metadata": {},
   "source": [
    "### 0. Split"
   ]
  },
  {
   "cell_type": "code",
   "execution_count": 5,
   "metadata": {},
   "outputs": [],
   "source": [
    "# concentrate features and labels\n",
    "\n",
    "ew = ['Unnamed: 0.1', 'Unnamed: 0','Name','Income_Per_Year', 'First_Name','Last_Name']\n",
    "target = data['Income_Per_Year']\n",
    "features = data.drop(ew, axis=1)"
   ]
  },
  {
   "cell_type": "code",
   "execution_count": 6,
   "metadata": {},
   "outputs": [
    {
     "data": {
      "text/html": [
       "<div>\n",
       "<style scoped>\n",
       "    .dataframe tbody tr th:only-of-type {\n",
       "        vertical-align: middle;\n",
       "    }\n",
       "\n",
       "    .dataframe tbody tr th {\n",
       "        vertical-align: top;\n",
       "    }\n",
       "\n",
       "    .dataframe thead th {\n",
       "        text-align: right;\n",
       "    }\n",
       "</style>\n",
       "<table border=\"1\" class=\"dataframe\">\n",
       "  <thead>\n",
       "    <tr style=\"text-align: right;\">\n",
       "      <th></th>\n",
       "      <th>Age</th>\n",
       "      <th>Years_Active</th>\n",
       "      <th>Beauty_Level</th>\n",
       "      <th>Award_Wins</th>\n",
       "      <th>Media_Mentions</th>\n",
       "      <th>Social_Media_Followers</th>\n",
       "      <th>Social_Media_Likes</th>\n",
       "      <th>Network_Size</th>\n",
       "      <th>Female</th>\n",
       "      <th>Male</th>\n",
       "      <th>...</th>\n",
       "      <th>Health</th>\n",
       "      <th>Beauty</th>\n",
       "      <th>Tech</th>\n",
       "      <th>Bachelor's</th>\n",
       "      <th>Culinary School</th>\n",
       "      <th>High School Diploma</th>\n",
       "      <th>Master's</th>\n",
       "      <th>Self-Taught</th>\n",
       "      <th>Introvert</th>\n",
       "      <th>Extrovert</th>\n",
       "    </tr>\n",
       "  </thead>\n",
       "  <tbody>\n",
       "    <tr>\n",
       "      <th>0</th>\n",
       "      <td>32</td>\n",
       "      <td>7</td>\n",
       "      <td>8</td>\n",
       "      <td>3.0</td>\n",
       "      <td>500.0</td>\n",
       "      <td>1000000.0</td>\n",
       "      <td>50000.0</td>\n",
       "      <td>5.0</td>\n",
       "      <td>1</td>\n",
       "      <td>0</td>\n",
       "      <td>...</td>\n",
       "      <td>1</td>\n",
       "      <td>0</td>\n",
       "      <td>0</td>\n",
       "      <td>1</td>\n",
       "      <td>0</td>\n",
       "      <td>0</td>\n",
       "      <td>0</td>\n",
       "      <td>0</td>\n",
       "      <td>0</td>\n",
       "      <td>1</td>\n",
       "    </tr>\n",
       "    <tr>\n",
       "      <th>1</th>\n",
       "      <td>28</td>\n",
       "      <td>5</td>\n",
       "      <td>7</td>\n",
       "      <td>2.0</td>\n",
       "      <td>300.0</td>\n",
       "      <td>800000.0</td>\n",
       "      <td>40000.0</td>\n",
       "      <td>4.0</td>\n",
       "      <td>0</td>\n",
       "      <td>1</td>\n",
       "      <td>...</td>\n",
       "      <td>1</td>\n",
       "      <td>0</td>\n",
       "      <td>0</td>\n",
       "      <td>0</td>\n",
       "      <td>0</td>\n",
       "      <td>1</td>\n",
       "      <td>0</td>\n",
       "      <td>0</td>\n",
       "      <td>1</td>\n",
       "      <td>0</td>\n",
       "    </tr>\n",
       "    <tr>\n",
       "      <th>2</th>\n",
       "      <td>35</td>\n",
       "      <td>8</td>\n",
       "      <td>9</td>\n",
       "      <td>5.0</td>\n",
       "      <td>600.0</td>\n",
       "      <td>1200000.0</td>\n",
       "      <td>70000.0</td>\n",
       "      <td>6.0</td>\n",
       "      <td>1</td>\n",
       "      <td>0</td>\n",
       "      <td>...</td>\n",
       "      <td>0</td>\n",
       "      <td>1</td>\n",
       "      <td>0</td>\n",
       "      <td>0</td>\n",
       "      <td>0</td>\n",
       "      <td>0</td>\n",
       "      <td>1</td>\n",
       "      <td>0</td>\n",
       "      <td>1</td>\n",
       "      <td>0</td>\n",
       "    </tr>\n",
       "    <tr>\n",
       "      <th>3</th>\n",
       "      <td>30</td>\n",
       "      <td>6</td>\n",
       "      <td>6</td>\n",
       "      <td>3.0</td>\n",
       "      <td>400.0</td>\n",
       "      <td>900000.0</td>\n",
       "      <td>45000.0</td>\n",
       "      <td>5.0</td>\n",
       "      <td>0</td>\n",
       "      <td>1</td>\n",
       "      <td>...</td>\n",
       "      <td>0</td>\n",
       "      <td>0</td>\n",
       "      <td>0</td>\n",
       "      <td>0</td>\n",
       "      <td>1</td>\n",
       "      <td>0</td>\n",
       "      <td>0</td>\n",
       "      <td>0</td>\n",
       "      <td>0</td>\n",
       "      <td>1</td>\n",
       "    </tr>\n",
       "    <tr>\n",
       "      <th>4</th>\n",
       "      <td>25</td>\n",
       "      <td>4</td>\n",
       "      <td>7</td>\n",
       "      <td>2.0</td>\n",
       "      <td>250.0</td>\n",
       "      <td>600000.0</td>\n",
       "      <td>35000.0</td>\n",
       "      <td>4.0</td>\n",
       "      <td>1</td>\n",
       "      <td>0</td>\n",
       "      <td>...</td>\n",
       "      <td>0</td>\n",
       "      <td>0</td>\n",
       "      <td>0</td>\n",
       "      <td>1</td>\n",
       "      <td>0</td>\n",
       "      <td>0</td>\n",
       "      <td>0</td>\n",
       "      <td>0</td>\n",
       "      <td>0</td>\n",
       "      <td>1</td>\n",
       "    </tr>\n",
       "  </tbody>\n",
       "</table>\n",
       "<p>5 rows × 29 columns</p>\n",
       "</div>"
      ],
      "text/plain": [
       "   Age  Years_Active  Beauty_Level  Award_Wins  Media_Mentions  \\\n",
       "0   32             7             8         3.0           500.0   \n",
       "1   28             5             7         2.0           300.0   \n",
       "2   35             8             9         5.0           600.0   \n",
       "3   30             6             6         3.0           400.0   \n",
       "4   25             4             7         2.0           250.0   \n",
       "\n",
       "   Social_Media_Followers  Social_Media_Likes  Network_Size  Female  Male  \\\n",
       "0               1000000.0             50000.0           5.0       1     0   \n",
       "1                800000.0             40000.0           4.0       0     1   \n",
       "2               1200000.0             70000.0           6.0       1     0   \n",
       "3                900000.0             45000.0           5.0       0     1   \n",
       "4                600000.0             35000.0           4.0       1     0   \n",
       "\n",
       "   ...  Health  Beauty  Tech  Bachelor's  Culinary School  \\\n",
       "0  ...       1       0     0           1                0   \n",
       "1  ...       1       0     0           0                0   \n",
       "2  ...       0       1     0           0                0   \n",
       "3  ...       0       0     0           0                1   \n",
       "4  ...       0       0     0           1                0   \n",
       "\n",
       "   High School Diploma  Master's  Self-Taught  Introvert  Extrovert  \n",
       "0                    0         0            0          0          1  \n",
       "1                    1         0            0          1          0  \n",
       "2                    0         1            0          1          0  \n",
       "3                    0         0            0          0          1  \n",
       "4                    0         0            0          0          1  \n",
       "\n",
       "[5 rows x 29 columns]"
      ]
     },
     "execution_count": 6,
     "metadata": {},
     "output_type": "execute_result"
    }
   ],
   "source": [
    "features.head()"
   ]
  },
  {
   "cell_type": "code",
   "execution_count": 7,
   "metadata": {},
   "outputs": [
    {
     "data": {
      "text/plain": [
       "Index(['Age', 'Years_Active', 'Beauty_Level', 'Award_Wins', 'Media_Mentions',\n",
       "       'Social_Media_Followers', 'Social_Media_Likes', 'Network_Size',\n",
       "       'Female', 'Male', 'European', 'Asian', 'Middle_Eastern',\n",
       "       'North_American', 'South_American', 'Oceanic', 'Entertainment', 'Food',\n",
       "       'Travel', 'Health', 'Beauty', 'Tech', 'Bachelor's', 'Culinary School',\n",
       "       'High School Diploma', 'Master's', 'Self-Taught', 'Introvert',\n",
       "       'Extrovert'],\n",
       "      dtype='object')"
      ]
     },
     "execution_count": 7,
     "metadata": {},
     "output_type": "execute_result"
    }
   ],
   "source": [
    "features.columns"
   ]
  },
  {
   "cell_type": "code",
   "execution_count": 8,
   "metadata": {},
   "outputs": [],
   "source": [
    "X_train, X_test, y_train, y_test = train_test_split(features, target, random_state=104, test_size=0.30)"
   ]
  },
  {
   "attachments": {},
   "cell_type": "markdown",
   "metadata": {},
   "source": [
    "### 1. Normalize"
   ]
  },
  {
   "cell_type": "code",
   "execution_count": 9,
   "metadata": {},
   "outputs": [
    {
     "data": {
      "text/html": [
       "<div>\n",
       "<style scoped>\n",
       "    .dataframe tbody tr th:only-of-type {\n",
       "        vertical-align: middle;\n",
       "    }\n",
       "\n",
       "    .dataframe tbody tr th {\n",
       "        vertical-align: top;\n",
       "    }\n",
       "\n",
       "    .dataframe thead th {\n",
       "        text-align: right;\n",
       "    }\n",
       "</style>\n",
       "<table border=\"1\" class=\"dataframe\">\n",
       "  <thead>\n",
       "    <tr style=\"text-align: right;\">\n",
       "      <th></th>\n",
       "      <th>Age</th>\n",
       "      <th>Years_Active</th>\n",
       "      <th>Beauty_Level</th>\n",
       "      <th>Award_Wins</th>\n",
       "      <th>Media_Mentions</th>\n",
       "      <th>Social_Media_Followers</th>\n",
       "      <th>Social_Media_Likes</th>\n",
       "      <th>Network_Size</th>\n",
       "      <th>Female</th>\n",
       "      <th>Male</th>\n",
       "      <th>...</th>\n",
       "      <th>Health</th>\n",
       "      <th>Beauty</th>\n",
       "      <th>Tech</th>\n",
       "      <th>Bachelor's</th>\n",
       "      <th>Culinary School</th>\n",
       "      <th>High School Diploma</th>\n",
       "      <th>Master's</th>\n",
       "      <th>Self-Taught</th>\n",
       "      <th>Introvert</th>\n",
       "      <th>Extrovert</th>\n",
       "    </tr>\n",
       "  </thead>\n",
       "  <tbody>\n",
       "    <tr>\n",
       "      <th>0</th>\n",
       "      <td>0.750000</td>\n",
       "      <td>0.428571</td>\n",
       "      <td>0.333333</td>\n",
       "      <td>0.50</td>\n",
       "      <td>0.5</td>\n",
       "      <td>0.500000</td>\n",
       "      <td>0.454545</td>\n",
       "      <td>0.333333</td>\n",
       "      <td>0.0</td>\n",
       "      <td>1.0</td>\n",
       "      <td>...</td>\n",
       "      <td>0.0</td>\n",
       "      <td>0.0</td>\n",
       "      <td>0.0</td>\n",
       "      <td>1.0</td>\n",
       "      <td>0.0</td>\n",
       "      <td>0.0</td>\n",
       "      <td>0.0</td>\n",
       "      <td>0.0</td>\n",
       "      <td>0.0</td>\n",
       "      <td>1.0</td>\n",
       "    </tr>\n",
       "    <tr>\n",
       "      <th>1</th>\n",
       "      <td>0.333333</td>\n",
       "      <td>0.285714</td>\n",
       "      <td>0.333333</td>\n",
       "      <td>0.50</td>\n",
       "      <td>0.5</td>\n",
       "      <td>0.500000</td>\n",
       "      <td>0.454545</td>\n",
       "      <td>0.333333</td>\n",
       "      <td>0.0</td>\n",
       "      <td>1.0</td>\n",
       "      <td>...</td>\n",
       "      <td>0.0</td>\n",
       "      <td>0.0</td>\n",
       "      <td>0.0</td>\n",
       "      <td>1.0</td>\n",
       "      <td>0.0</td>\n",
       "      <td>0.0</td>\n",
       "      <td>0.0</td>\n",
       "      <td>0.0</td>\n",
       "      <td>0.0</td>\n",
       "      <td>1.0</td>\n",
       "    </tr>\n",
       "    <tr>\n",
       "      <th>2</th>\n",
       "      <td>0.083333</td>\n",
       "      <td>0.000000</td>\n",
       "      <td>1.000000</td>\n",
       "      <td>0.25</td>\n",
       "      <td>0.3</td>\n",
       "      <td>0.277778</td>\n",
       "      <td>0.272727</td>\n",
       "      <td>0.333333</td>\n",
       "      <td>1.0</td>\n",
       "      <td>0.0</td>\n",
       "      <td>...</td>\n",
       "      <td>0.0</td>\n",
       "      <td>0.0</td>\n",
       "      <td>0.0</td>\n",
       "      <td>1.0</td>\n",
       "      <td>0.0</td>\n",
       "      <td>0.0</td>\n",
       "      <td>0.0</td>\n",
       "      <td>0.0</td>\n",
       "      <td>0.0</td>\n",
       "      <td>1.0</td>\n",
       "    </tr>\n",
       "    <tr>\n",
       "      <th>3</th>\n",
       "      <td>0.250000</td>\n",
       "      <td>0.428571</td>\n",
       "      <td>0.666667</td>\n",
       "      <td>0.25</td>\n",
       "      <td>0.4</td>\n",
       "      <td>0.444444</td>\n",
       "      <td>0.363636</td>\n",
       "      <td>0.333333</td>\n",
       "      <td>0.0</td>\n",
       "      <td>1.0</td>\n",
       "      <td>...</td>\n",
       "      <td>0.0</td>\n",
       "      <td>0.0</td>\n",
       "      <td>0.0</td>\n",
       "      <td>1.0</td>\n",
       "      <td>0.0</td>\n",
       "      <td>0.0</td>\n",
       "      <td>0.0</td>\n",
       "      <td>0.0</td>\n",
       "      <td>1.0</td>\n",
       "      <td>0.0</td>\n",
       "    </tr>\n",
       "    <tr>\n",
       "      <th>4</th>\n",
       "      <td>0.250000</td>\n",
       "      <td>0.285714</td>\n",
       "      <td>0.666667</td>\n",
       "      <td>0.50</td>\n",
       "      <td>0.5</td>\n",
       "      <td>0.500000</td>\n",
       "      <td>0.454545</td>\n",
       "      <td>0.333333</td>\n",
       "      <td>1.0</td>\n",
       "      <td>0.0</td>\n",
       "      <td>...</td>\n",
       "      <td>0.0</td>\n",
       "      <td>1.0</td>\n",
       "      <td>0.0</td>\n",
       "      <td>1.0</td>\n",
       "      <td>0.0</td>\n",
       "      <td>0.0</td>\n",
       "      <td>0.0</td>\n",
       "      <td>0.0</td>\n",
       "      <td>1.0</td>\n",
       "      <td>0.0</td>\n",
       "    </tr>\n",
       "  </tbody>\n",
       "</table>\n",
       "<p>5 rows × 29 columns</p>\n",
       "</div>"
      ],
      "text/plain": [
       "        Age  Years_Active  Beauty_Level  Award_Wins  Media_Mentions  \\\n",
       "0  0.750000      0.428571      0.333333        0.50             0.5   \n",
       "1  0.333333      0.285714      0.333333        0.50             0.5   \n",
       "2  0.083333      0.000000      1.000000        0.25             0.3   \n",
       "3  0.250000      0.428571      0.666667        0.25             0.4   \n",
       "4  0.250000      0.285714      0.666667        0.50             0.5   \n",
       "\n",
       "   Social_Media_Followers  Social_Media_Likes  Network_Size  Female  Male  \\\n",
       "0                0.500000            0.454545      0.333333     0.0   1.0   \n",
       "1                0.500000            0.454545      0.333333     0.0   1.0   \n",
       "2                0.277778            0.272727      0.333333     1.0   0.0   \n",
       "3                0.444444            0.363636      0.333333     0.0   1.0   \n",
       "4                0.500000            0.454545      0.333333     1.0   0.0   \n",
       "\n",
       "   ...  Health  Beauty  Tech  Bachelor's  Culinary School  \\\n",
       "0  ...     0.0     0.0   0.0         1.0              0.0   \n",
       "1  ...     0.0     0.0   0.0         1.0              0.0   \n",
       "2  ...     0.0     0.0   0.0         1.0              0.0   \n",
       "3  ...     0.0     0.0   0.0         1.0              0.0   \n",
       "4  ...     0.0     1.0   0.0         1.0              0.0   \n",
       "\n",
       "   High School Diploma  Master's  Self-Taught  Introvert  Extrovert  \n",
       "0                  0.0       0.0          0.0        0.0        1.0  \n",
       "1                  0.0       0.0          0.0        0.0        1.0  \n",
       "2                  0.0       0.0          0.0        0.0        1.0  \n",
       "3                  0.0       0.0          0.0        1.0        0.0  \n",
       "4                  0.0       0.0          0.0        1.0        0.0  \n",
       "\n",
       "[5 rows x 29 columns]"
      ]
     },
     "execution_count": 9,
     "metadata": {},
     "output_type": "execute_result"
    }
   ],
   "source": [
    "scaler = MinMaxScaler()\n",
    "X_train = pd.DataFrame(scaler.fit_transform(X_train), columns=X_train.columns)\n",
    "X_train.head()"
   ]
  },
  {
   "cell_type": "code",
   "execution_count": 10,
   "metadata": {},
   "outputs": [],
   "source": [
    "# turn into arrays\n",
    "X_train = np.array(X_train)\n",
    "y_train = np.array(y_train)"
   ]
  },
  {
   "attachments": {},
   "cell_type": "markdown",
   "metadata": {},
   "source": [
    "### 2. Train"
   ]
  },
  {
   "cell_type": "code",
   "execution_count": 29,
   "metadata": {},
   "outputs": [
    {
     "name": "stdout",
     "output_type": "stream",
     "text": [
      "r2 score:  0.8749035843117501\n"
     ]
    }
   ],
   "source": [
    "# create model and get r2\n",
    "model = LinearRegression().fit(X_train, y_train)\n",
    "r2 = model.score(X_train, y_train)\n",
    "print(\"r2 score: \",r2)"
   ]
  },
  {
   "cell_type": "code",
   "execution_count": 28,
   "metadata": {},
   "outputs": [
    {
     "name": "stdout",
     "output_type": "stream",
     "text": [
      "mean squared error: 145003109.2978968\n",
      "mean absolute error: 9355.702146645772\n"
     ]
    }
   ],
   "source": [
    "# print MAE\n",
    "print(\"mean absolute error:\",mean_absolute_error(y_train, model.predict(X_train)))"
   ]
  },
  {
   "cell_type": "code",
   "execution_count": 34,
   "metadata": {},
   "outputs": [
    {
     "data": {
      "text/plain": [
       "219740.56603773584"
      ]
     },
     "execution_count": 34,
     "metadata": {},
     "output_type": "execute_result"
    }
   ],
   "source": [
    "# average training income\n",
    "y_train.mean()"
   ]
  },
  {
   "attachments": {},
   "cell_type": "markdown",
   "metadata": {},
   "source": [
    "### 3. Predict"
   ]
  },
  {
   "cell_type": "code",
   "execution_count": 12,
   "metadata": {},
   "outputs": [],
   "source": [
    "# scale/normalize test\n",
    "scaler = MinMaxScaler()\n",
    "X_test = pd.DataFrame(scaler.fit_transform(X_test), columns=X_test.columns)"
   ]
  },
  {
   "cell_type": "code",
   "execution_count": 13,
   "metadata": {},
   "outputs": [],
   "source": [
    "# to arrays\n",
    "X_test = np.array(X_test)\n",
    "y_test = np.array(y_test)"
   ]
  },
  {
   "cell_type": "code",
   "execution_count": 30,
   "metadata": {},
   "outputs": [
    {
     "name": "stdout",
     "output_type": "stream",
     "text": [
      "r2 score: 0.2871174579545098\n"
     ]
    }
   ],
   "source": [
    "# make predictions\n",
    "predictions = model.predict(X_test)"
   ]
  },
  {
   "cell_type": "code",
   "execution_count": 31,
   "metadata": {},
   "outputs": [
    {
     "data": {
      "image/png": "[encoded data removed]",
      "text/plain": [
       "<Figure size 800x800 with 1 Axes>"
      ]
     },
     "metadata": {},
     "output_type": "display_data"
    }
   ],
   "source": [
    "plt.figure(figsize=(8,8))\n",
    "plt.scatter(y_test, predictions, c='orange')\n",
    "plt.yscale('log')\n",
    "plt.xscale('log')\n",
    "\n",
    "p1 = max(max(predictions), max(y_test))\n",
    "p2 = min(min(predictions), min(y_test))\n",
    "plt.plot([p1, p2], [p1, p2], 'b-')\n",
    "plt.xlabel('True Values', fontsize=15)\n",
    "plt.ylabel('Predictions', fontsize=15)\n",
    "plt.title(\"True Values vs. Predictions of Model\")\n",
    "plt.axis('equal')\n",
    "plt.show()"
   ]
  },
  {
   "attachments": {},
   "cell_type": "markdown",
   "metadata": {},
   "source": [
    "### 4. Analyze"
   ]
  },
  {
   "cell_type": "code",
   "execution_count": 22,
   "metadata": {},
   "outputs": [
    {
     "name": "stdout",
     "output_type": "stream",
     "text": [
      "105521.45460812005\n"
     ]
    }
   ],
   "source": [
    "# saving coeff\n",
    "list(zip(features, model.coef_))\n",
    "data = pd.DataFrame(list(zip(features, model.coef_)))"
   ]
  },
  {
   "cell_type": "code",
   "execution_count": 32,
   "metadata": {},
   "outputs": [
    {
     "name": "stdout",
     "output_type": "stream",
     "text": [
      "r2 score: 0.2871174579545098\n"
     ]
    }
   ],
   "source": [
    "# r2 score\n",
    "r2 = r2_score(predictions, y_test)\n",
    "print(\"r2 score:\", r2)"
   ]
  },
  {
   "cell_type": "code",
   "execution_count": 27,
   "metadata": {},
   "outputs": [
    {
     "name": "stdout",
     "output_type": "stream",
     "text": [
      "mean squared error: 1196361074.7177258\n",
      "mean absolute error: 31602.125847575087\n"
     ]
    }
   ],
   "source": [
    "# MAE\n",
    "print(\"mean absolute error:\",mean_absolute_error(y_test, predictions))"
   ]
  },
  {
   "cell_type": "code",
   "execution_count": 33,
   "metadata": {},
   "outputs": [
    {
     "data": {
      "text/plain": [
       "223934.4262295082"
      ]
     },
     "execution_count": 33,
     "metadata": {},
     "output_type": "execute_result"
    }
   ],
   "source": [
    "# average testing income\n",
    "y_test.mean()"
   ]
  },
  {
   "cell_type": "code",
   "execution_count": 20,
   "metadata": {},
   "outputs": [],
   "source": [
    "data.to_csv(\"data/processed/coefficents.csv\")"
   ]
  },
  {
   "attachments": {},
   "cell_type": "markdown",
   "metadata": {},
   "source": [
    "### Please see data_analysis for next step."
   ]
  }
 ],
 "metadata": {
  "kernelspec": {
   "display_name": "Python 3",
   "language": "python",
   "name": "python3"
  },
  "language_info": {
   "codemirror_mode": {
    "name": "ipython",
    "version": 3
   },
   "file_extension": ".py",
   "mimetype": "text/x-python",
   "name": "python",
   "nbconvert_exporter": "python",
   "pygments_lexer": "ipython3",
   "version": "3.10.1"
  },
  "orig_nbformat": 4,
  "vscode": {
   "interpreter": {
    "hash": "aee8b7b246df8f9039afb4144a1f6fd8d2ca17a180786b69acc140d282b71a49"
   }
  }
 },
 "nbformat": 4,
 "nbformat_minor": 2
}
